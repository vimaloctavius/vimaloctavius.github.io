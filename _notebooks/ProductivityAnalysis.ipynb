{
  "nbformat": 4,
  "nbformat_minor": 0,
  "metadata": {
    "colab": {
      "name": "ProductivityAnalysis.ipynb",
      "provenance": [],
      "collapsed_sections": []
    },
    "kernelspec": {
      "name": "python3",
      "display_name": "Python 3"
    },
    "language_info": {
      "name": "python"
    }
  },
  "cells": [
    {
      "cell_type": "markdown",
      "source": [
        "##Optimizing IT Service Management and IT process' Resolver groups through productivity ananlysis. \n",
        "\n",
        "The process scketch below outlines Analysing the \"Entitlement Full Time Equivalents\" using ticket data from IT Service Management tools, \"Time on floor\" access control data and Employee databases."
      ],
      "metadata": {
        "id": "r0Tm9wCtt5DA"
      }
    },
    {
      "cell_type": "markdown",
      "source": [
        "By the end of the project, we should be able to arrive at the \"Entitlement Full Time Equivalents\" that may be re-deployed to other projects without any impact to the current process' productivity and performance."
      ],
      "metadata": {
        "id": "4RsKzT85wXwZ"
      }
    },
    {
      "cell_type": "markdown",
      "source": [
        "Computing Productive Hours:"
      ],
      "metadata": {
        "id": "9P6VCGZc0pxJ"
      }
    },
    {
      "cell_type": "code",
      "source": [
        "working_days = 22\n",
        "productive_hrs_per_day = 7\n",
        "FTE_Hrs_Per_Month = working_days*productive_hrs_per_day\n",
        "print(\"Full Time Equivalent Productive Hours per Month: \", FTE_Hrs_Per_Month)"
      ],
      "metadata": {
        "colab": {
          "base_uri": "https://localhost:8080/"
        },
        "id": "zPigSdAT1YUH",
        "outputId": "c6cabd4b-04eb-486b-fbda-394b9ab43d9f"
      },
      "execution_count": 44,
      "outputs": [
        {
          "output_type": "stream",
          "name": "stdout",
          "text": [
            "Full Time Equivalent Productive Hours per Month:  154\n"
          ]
        }
      ]
    },
    {
      "cell_type": "markdown",
      "source": [
        "To keep things simple and for the purpose of this illustration, let's say we have 8 employees in an IT Service Team and we've obtained the employee's number of days worked and average productive hours per day (from access control, systems software, etc...)"
      ],
      "metadata": {
        "id": "WXvXjWa2BRB4"
      }
    },
    {
      "cell_type": "code",
      "execution_count": 45,
      "metadata": {
        "id": "29fr-C9Stz13"
      },
      "outputs": [],
      "source": [
        "import pandas as pd\n",
        "data = { 'Emp_ID':['E1','E2','E3','E4','E5','E6','E7','E8'],\n",
        "                'January_Days_Worked': ['21','19','14','22','18','14','22','16'], \n",
        "                'Jan_Avg_Hrs_Per_Day': ['4.5','5.9','6.8','5.7','6.7','6.5','5.1','6.5']}\n"
      ]
    },
    {
      "cell_type": "code",
      "source": [
        "Employee_Data = pd.DataFrame(data)\n",
        "Employee_Data['January_Days_Worked'] = Employee_Data['January_Days_Worked'].astype(float)\n",
        "Employee_Data['Jan_Avg_Hrs_Per_Day'] = Employee_Data['Jan_Avg_Hrs_Per_Day'].astype(float)\n",
        "\n",
        "print(Employee_Data)"
      ],
      "metadata": {
        "colab": {
          "base_uri": "https://localhost:8080/"
        },
        "id": "LfUyn5fx0C31",
        "outputId": "bdacd0f3-7f84-4d13-f9bf-8ba7d016f9f3"
      },
      "execution_count": 46,
      "outputs": [
        {
          "output_type": "stream",
          "name": "stdout",
          "text": [
            "  Emp_ID  January_Days_Worked  Jan_Avg_Hrs_Per_Day\n",
            "0     E1                21.00                 4.50\n",
            "1     E2                19.00                 5.90\n",
            "2     E3                14.00                 6.80\n",
            "3     E4                22.00                 5.70\n",
            "4     E5                18.00                 6.70\n",
            "5     E6                14.00                 6.50\n",
            "6     E7                22.00                 5.10\n",
            "7     E8                16.00                 6.50\n"
          ]
        }
      ]
    },
    {
      "cell_type": "markdown",
      "source": [
        "Let's compute the expected vs actual hours"
      ],
      "metadata": {
        "id": "Z5ml8OWvdcNB"
      }
    },
    {
      "cell_type": "code",
      "source": [
        "Employee_Data['Jan_Actual_Hrs'] =  Employee_Data['January_Days_Worked']*Employee_Data['Jan_Avg_Hrs_Per_Day']\n",
        "Employee_Data['Jan_Expected_Hrs'] = Employee_Data['January_Days_Worked']*productive_hrs_per_day"
      ],
      "metadata": {
        "id": "72859y2HdIBi"
      },
      "execution_count": 47,
      "outputs": []
    },
    {
      "cell_type": "markdown",
      "source": [
        "The difference between the Expected and Actual:"
      ],
      "metadata": {
        "id": "mnDMQtL9in6s"
      }
    },
    {
      "cell_type": "code",
      "source": [
        "Employee_Data['Jan_Difference_Hrs'] = Employee_Data['Jan_Expected_Hrs']-Employee_Data['Jan_Actual_Hrs']"
      ],
      "metadata": {
        "id": "b8vBuDibjFG7"
      },
      "execution_count": 48,
      "outputs": []
    },
    {
      "cell_type": "markdown",
      "source": [
        "Taking a look at our data:"
      ],
      "metadata": {
        "id": "FHPb_ysOkFWN"
      }
    },
    {
      "cell_type": "code",
      "source": [
        "pd.set_option('display.max_columns',None)\n",
        "print(Employee_Data)"
      ],
      "metadata": {
        "colab": {
          "base_uri": "https://localhost:8080/"
        },
        "id": "hTOvd9J_kLPp",
        "outputId": "f9c2fadd-3de5-4065-da4d-adec2e040ebc"
      },
      "execution_count": 49,
      "outputs": [
        {
          "output_type": "stream",
          "name": "stdout",
          "text": [
            "  Emp_ID  January_Days_Worked  Jan_Avg_Hrs_Per_Day  Jan_Actual_Hrs  \\\n",
            "0     E1                21.00                 4.50           94.50   \n",
            "1     E2                19.00                 5.90          112.10   \n",
            "2     E3                14.00                 6.80           95.20   \n",
            "3     E4                22.00                 5.70          125.40   \n",
            "4     E5                18.00                 6.70          120.60   \n",
            "5     E6                14.00                 6.50           91.00   \n",
            "6     E7                22.00                 5.10          112.20   \n",
            "7     E8                16.00                 6.50          104.00   \n",
            "\n",
            "   Jan_Expected_Hrs  Jan_Difference_Hrs  \n",
            "0            147.00               52.50  \n",
            "1            133.00               20.90  \n",
            "2             98.00                2.80  \n",
            "3            154.00               28.60  \n",
            "4            126.00                5.40  \n",
            "5             98.00                7.00  \n",
            "6            154.00               41.80  \n",
            "7            112.00                8.00  \n"
          ]
        }
      ]
    },
    {
      "cell_type": "markdown",
      "source": [
        "The \"Entitlement Full Time Equivalent\" should give us a projection on,\n",
        "\n",
        "*   What the number would look like - how much of the workforce may be re-deployed just for the Month of January. \n",
        "*   Repeating this exercise for Feb and Mar should give us, on an average over a quarter - the workforce that can be re-deployed, without affecting the exisiting project."
      ],
      "metadata": {
        "id": "FglQYOFpl_M-"
      }
    },
    {
      "cell_type": "code",
      "source": [
        "Employee_Data['Jan_Entitlement_FTE'] = Employee_Data['Jan_Difference_Hrs']/(FTE_Hrs_Per_Month)"
      ],
      "metadata": {
        "id": "ejgxhn5fpPaX"
      },
      "execution_count": 50,
      "outputs": []
    },
    {
      "cell_type": "code",
      "source": [
        "pd.set_option('display.max_columns',None)\n",
        "print(Employee_Data)"
      ],
      "metadata": {
        "colab": {
          "base_uri": "https://localhost:8080/"
        },
        "id": "f56-O_-5fGR-",
        "outputId": "31add08b-8a1c-4e8f-e606-932e6836b8d2"
      },
      "execution_count": 51,
      "outputs": [
        {
          "output_type": "stream",
          "name": "stdout",
          "text": [
            "  Emp_ID  January_Days_Worked  Jan_Avg_Hrs_Per_Day  Jan_Actual_Hrs  \\\n",
            "0     E1                21.00                 4.50           94.50   \n",
            "1     E2                19.00                 5.90          112.10   \n",
            "2     E3                14.00                 6.80           95.20   \n",
            "3     E4                22.00                 5.70          125.40   \n",
            "4     E5                18.00                 6.70          120.60   \n",
            "5     E6                14.00                 6.50           91.00   \n",
            "6     E7                22.00                 5.10          112.20   \n",
            "7     E8                16.00                 6.50          104.00   \n",
            "\n",
            "   Jan_Expected_Hrs  Jan_Difference_Hrs  Jan_Entitlement_FTE  \n",
            "0            147.00               52.50                 0.34  \n",
            "1            133.00               20.90                 0.14  \n",
            "2             98.00                2.80                 0.02  \n",
            "3            154.00               28.60                 0.19  \n",
            "4            126.00                5.40                 0.04  \n",
            "5             98.00                7.00                 0.05  \n",
            "6            154.00               41.80                 0.27  \n",
            "7            112.00                8.00                 0.05  \n"
          ]
        }
      ]
    },
    {
      "cell_type": "markdown",
      "source": [
        "Visualising a subset of the above data:\n",
        "\n"
      ],
      "metadata": {
        "id": "bHVuCjIWgHta"
      }
    },
    {
      "cell_type": "code",
      "source": [
        "import matplotlib.pyplot as plt\n",
        "%matplotlib inline\n",
        "df_entitle = Employee_Data.drop(columns='January_Days_Worked')\n",
        "df_entitle.plot.barh(figsize = (18,6),x='Emp_ID')"
      ],
      "metadata": {
        "colab": {
          "base_uri": "https://localhost:8080/",
          "height": 391
        },
        "id": "dgw6M0Y8gBf0",
        "outputId": "4e2ae3a7-382b-4e53-adf8-ce152972fcde"
      },
      "execution_count": 52,
      "outputs": [
        {
          "output_type": "execute_result",
          "data": {
            "text/plain": [
              "<matplotlib.axes._subplots.AxesSubplot at 0x7f2eb711e510>"
            ]
          },
          "metadata": {},
          "execution_count": 52
        },
        {
          "output_type": "display_data",
          "data": {
            "image/png": "[encoded data removed]",
            "text/plain": [
              "<Figure size 1296x432 with 1 Axes>"
            ]
          },
          "metadata": {
            "needs_background": "light"
          }
        }
      ]
    },
    {
      "cell_type": "markdown",
      "source": [
        "A lot of useful inferences concerning employee productivity can be derived at, looking at the graph above:\n",
        "\n",
        "\n",
        "*   Employee1 and Employee7 have a big difference concerning expected vs actual productive hours\n",
        "*   Employee4 and 7, have the highest expected hours so they were more\"Present\" for the month of January, although Employee 7 could have been a lot more productive\n",
        "*and so on...\n",
        "\n"
      ],
      "metadata": {
        "id": "cSOEudI-sQ_-"
      }
    },
    {
      "cell_type": "markdown",
      "source": [
        "We can now compute the overall \"Entitlement Full Time Equivalent (FTE) for January as below: (and repeat the steps above for each month for a quarter or so, to arrive at what could be a fair decision on our productivity analysis)"
      ],
      "metadata": {
        "id": "C6xhO_tit3X0"
      }
    },
    {
      "cell_type": "code",
      "source": [
        "print(\"%.2f\" % Employee_Data['Jan_Entitlement_FTE'].sum())"
      ],
      "metadata": {
        "colab": {
          "base_uri": "https://localhost:8080/"
        },
        "id": "vl8a942mt1PU",
        "outputId": "f6c72723-1999-4607-bfa0-ee8043939361"
      },
      "execution_count": 53,
      "outputs": [
        {
          "output_type": "stream",
          "name": "stdout",
          "text": [
            "1.08\n"
          ]
        }
      ]
    },
    {
      "cell_type": "markdown",
      "source": [
        "The above concept can be extended to apply [Takt Time](https://www.lean.org/lexicon-terms/takt-time/#:~:text=The%20available%20production%20time%20divided,takt%20time%20is%20two%20weeks.) and further analysis, if we can include incoming volume of Tickets that needs to be worked upon\n",
        "\n"
      ],
      "metadata": {
        "id": "0krOk4LYzNUf"
      }
    }
  ]
}